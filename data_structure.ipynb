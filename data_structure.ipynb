{
  "nbformat": 4,
  "nbformat_minor": 0,
  "metadata": {
    "colab": {
      "provenance": []
    },
    "kernelspec": {
      "name": "python3",
      "display_name": "Python 3"
    },
    "language_info": {
      "name": "python"
    }
  },
  "cells": [
    {
      "cell_type": "markdown",
      "source": [
        "1. What are data structures and why they are important?\n",
        "-> Data Structures are specialized formats for organizing,storing and accessing collections of data.They are important because choosing right data sructure can significantly impacts the efficiency and performance of the program.It can simplify data manipulation,optimize searching and sorting operations and conserve memory usage."
      ],
      "metadata": {
        "id": "nmav2i3jYZu8"
      }
    },
    {
      "cell_type": "markdown",
      "source": [
        "2.Explain the difference between mutable and immutable data types with examples?\n",
        "  \n",
        "  -> Mutable data types are items which once created can be changed .for example list data structure.You can add,remove or modify items in a list.\n",
        "\n",
        "  Immutable data types are items which once created cannot be changed.They provide a secure way to store data that shouldn't be modified.for example Tuple."
      ],
      "metadata": {
        "id": "W3YZ3OapaLm0"
      }
    },
    {
      "cell_type": "markdown",
      "source": [
        "3.What are the main difference between list and tuple in python?\n",
        "\n",
        "-> The main difference is list is mutable and tuple is immutable in python."
      ],
      "metadata": {
        "id": "aMHDOCfkdir_"
      }
    },
    {
      "cell_type": "markdown",
      "source": [
        "4.Describe How Dictionary Stores data?\n",
        "\n",
        "-> The Elements are stored in a key value pair. They are stored not in specific order.keys and values can be of various data types."
      ],
      "metadata": {
        "id": "wAtEP84cd4R4"
      }
    },
    {
      "cell_type": "markdown",
      "source": [
        "5. why might you use a set instead of list in python?\n",
        "-> set are useful when you don't wan't duplicate entries and it is useful for checking if an item exists and finding intersection or  difference between the sets."
      ],
      "metadata": {
        "id": "Csh8JfBKezlT"
      }
    },
    {
      "cell_type": "markdown",
      "source": [
        "6. What is a string in Python,How is it different from a list?\n",
        "\n",
        "-> String is a sequence of characters.It represents and manipulate textual data.\n",
        "It is immutable whereas list is a collection of items and it is mutable."
      ],
      "metadata": {
        "id": "ZTtzClb5f6nh"
      }
    },
    {
      "cell_type": "markdown",
      "source": [
        "7. How do tuples ensure data integrity in Python?\n",
        "\n",
        "-> Once tuples created, its content cannot be changed. You cannot add items,remove existing items or modify an element.This protects the data from accidental changes."
      ],
      "metadata": {
        "id": "IJISJr_VhFgO"
      }
    },
    {
      "cell_type": "markdown",
      "source": [
        "8. What is Hash table and how does relate to dictionaries in python?\n",
        "\n",
        " -> Hash table is a data structure using hash functions to store and retrieve key value pairs quickly.and Dictionaries is a built in implementation of hash table in python. Dictionary internally uses hashtable for fast look ups.Keys are hashed using python's internal hash function.hash determines where the value is stored in memory.keys must be immuatable."
      ],
      "metadata": {
        "id": "zpYvezZqiP4g"
      }
    },
    {
      "cell_type": "markdown",
      "source": [],
      "metadata": {
        "id": "xrC0dtX7dzuR"
      }
    },
    {
      "cell_type": "markdown",
      "source": [
        "9. Can lists contain different data types in Python?\n",
        "\n",
        "->  yes"
      ],
      "metadata": {
        "id": "lvYSMH7SkPU_"
      }
    },
    {
      "cell_type": "markdown",
      "source": [
        "10. Explain why strings are immutable in Python?\n",
        "\n",
        "-> Strings are immuatable so we cannot modify individual characters.\n",
        "Any string operation that seems to change the string creats a new one.\n",
        "It is necessary as strings are used for dictionary keys,and dictionary keys must be hashable If strings were mutable, changing the string would change its hash value, leading to incorrect lookups.Python interns some strings (reuses memory for identical strings).This is only safe if strings are immutable.Immutability helps with safe sharing across threads.\n",
        "Since strings can't be changed, there's no risk of race conditions or data corruption when used by multiple threads.\n",
        "\n",
        "\n",
        "\n",
        "\n"
      ],
      "metadata": {
        "id": "hQrJ7wI9kiSW"
      }
    },
    {
      "cell_type": "markdown",
      "source": [
        "11. What advantages do dictionaries offer overs lists for certain tasks?\n",
        "\n",
        "-> Dictionaries use a hash table, so accessing a value by key is very fast.\n",
        "Lists require a linear search (O(n)) unless you know the index.Dictionaries are self-describing: each value has a meaningful key.Lists are position-based, so you must remember what each index represents.With dictionaries, you can retrieve data without knowing its position.In lists, you must know the exact index.Dictionaries automatically prevent duplicate keys.Lists can have duplicate values, which may lead to errors if uniqueness is important.Dictionaries are excellent for representing objects, JSON data, or records.\n",
        "Lists are better for ordered collections or sequences.You can easily add, remove, or update items by key in a dictionary.In lists, modifying data requires index manipulation.\n",
        "\n",
        "\n",
        "\n"
      ],
      "metadata": {
        "id": "MCsYtUszm9a4"
      }
    },
    {
      "cell_type": "markdown",
      "source": [
        "12. Describe a scenario where using a tuple would be preferable over a list?\n",
        "\n",
        "->Tuples should be use where you don't want to modify the data.The data is fixed and should not change.You want to ensure safety and integrity.\n",
        "\n",
        "for example 1) you are storing aadhar card or pan carof person.2)Suppose you're building a mapping application that stores the fixed location of various landmarks.\n",
        "taj_mahal_location = (27.1751, 78.0421)"
      ],
      "metadata": {
        "id": "4duh4cNqo5UE"
      }
    },
    {
      "cell_type": "markdown",
      "source": [
        "13. How sets handles duplicate values in Python?\n",
        "\n",
        "->  A set is an unordered, mutable collection of unique elements.Sets are based on hash tables, just like dictionaries.When a new element is added:\n",
        "Python computes its hash value.If that hash already exists in the set, the element is ignored.\n",
        "\n"
      ],
      "metadata": {
        "id": "UgPb8dH-qk4a"
      }
    },
    {
      "cell_type": "markdown",
      "source": [
        "14. How does the \"in\" keyword work differently for lists and dictionaries?\n",
        "\n",
        "->  The in keyword is used to check membership in both lists and dictionaries, but it behaves differently depending on the data type.in with Lists:-\n",
        "Checks if a value exists in the list and Searches through all elements one by one (linear search).\n",
        "in with Dictionaries:Checks if a key exists in dictionary, not values.\n",
        "Very fast because it uses a hash table.\n",
        "\n",
        "\n"
      ],
      "metadata": {
        "id": "7kH45qQFr6px"
      }
    },
    {
      "cell_type": "markdown",
      "source": [
        "15.Can you modify the elements in a tuple?Explain why or why not?\n",
        "\n",
        "->  No, you cannot modify the elements of a tuple in Python — because tuples are immutable.Once a tuple is created:You cannot change, add, or remove its elements.Any attempt to do so will raise an error."
      ],
      "metadata": {
        "id": "65XOYpTntPYI"
      }
    },
    {
      "cell_type": "markdown",
      "source": [
        "16.What is a nested dictionary.and give an example of its use case?\n",
        "\n",
        "->  A nested dictionary is a dictionary within another dictionary.\n",
        "It allows you to model complex, hierarchical data using multiple levels of key-value pairs.magine you're building a student database for a school system.\n",
        "Each student has:\n",
        "Basic info (name, roll number),\n",
        "A dictionary of subject-wise marks.,\n",
        "A dictionary for contact details.\n",
        "\n",
        "students = {\n",
        "    \n",
        "    \"1001\": {\n",
        "        \"name\": \"Alice\",\n",
        "        \"marks\": {\"math\": 90, \"science\": 85},\n",
        "        \"contact\": {\"email\": \"alice@example.com\", \"phone\": \"1234567890\"}\n",
        "    },\n",
        "    \"1002\": {\n",
        "        \"name\": \"Bob\",\n",
        "        \"marks\": {\"math\": 78, \"science\": 88},\n",
        "        \"contact\": {\"email\": \"bob@example.com\", \"phone\": \"9876543210\"}\n",
        "    }\n",
        "}\n",
        "\n"
      ],
      "metadata": {
        "id": "fNrQ335it15G"
      }
    },
    {
      "cell_type": "markdown",
      "source": [
        "17. Describe the time complexity of accessing elements in a dictionary?\n",
        "\n",
        "->  Average-case time complexity: O(1)-Constant time.\n",
        "Worst-case time complexity: O(n)-Very rare.Python dictionaries are implemented using a hash table.Python performs:Hashing the key  to find an index in memory\n",
        ".Direct access to that index to retrieve the value.This gives it constant time access: O(1).n very rare cases:Many keys produce the same hash value (called a hash collision) Python has to search through a sequence of collided keys to find the match.This degrades performance to O(n), but Python uses smart collision resolution (open addressing) to avoid this.\n",
        "\n"
      ],
      "metadata": {
        "id": "K0l9qwenvHJl"
      }
    },
    {
      "cell_type": "markdown",
      "source": [
        "18. In What situations are lists are preferred over dictionaries?\n",
        "\n",
        "-> While dictionaries are great for key-value pairs, lists shine in situations where order, indexing, and sequential data are important.\n",
        "Lists maintain insertion order (since Python 3.7+), and you can access elements by index.Lists are ideal when you're looping through items in a specific sequence.If your data doesn’t need labels or key-value pairs, a list is simpler and more efficient.Lists support:Access by index: my_list[0] and Slicing: my_list[1:3].Lists support many built-in methods:nums.sort() and\n",
        "nums.reverse().When implementing data structures like stacks (append, pop) or queues (pop(0)), lists are ideal.Lists are lighter and simpler for small or homogeneous datasets compared to the overhead of key-value storage in dictionaries.\n",
        "\n",
        "\n",
        "\n",
        "\n",
        "\n",
        "\n",
        "\n",
        "\n",
        "\n",
        "\n",
        "\n",
        "\n",
        "\n",
        "\n"
      ],
      "metadata": {
        "id": "tMD17umUzbAi"
      }
    },
    {
      "cell_type": "markdown",
      "source": [
        "19. Why are dictionaries considered unordered,and how does that affect data retrieval?\n",
        "\n",
        "->  Dictionaries were considered unordered collections.\n",
        "This meant the order in which you inserted items wasn't guaranteed to be preserved.Internally, they were optimized for fast access, not sequence.They use hashtable for storing key and values.It is designed for key based access.So hashing of key provides faster data retrieval.constant time access O(1).As of Python 3.8+, it's a language guarantee: dictionaries remember the order in which items were added.So now, they behave like ordered maps, but are still primarily used for key-based access, not positional data.\n",
        "\n",
        "\n"
      ],
      "metadata": {
        "id": "HP7qZ4eS1G1-"
      }
    },
    {
      "cell_type": "markdown",
      "source": [
        "20. Explain the difference between a list and a dictionary in terms of data retrieval?\n",
        "\n",
        "->\n",
        "Data Access Method Of List :By index (e.g., my_list[0])\n",
        "Data Access Method Of Dictionary:By key (e.g., my_dict[\"name\"])\n",
        "\n",
        "Lookup Time Complexity of List: O(1) for index, O(n) for value lookup\n",
        "Lookup Time Complexity of Dictionary:O(1) average for key-based lookup\n",
        "\n",
        "Ordering Of list:Ordered (insertion order preserved)\n",
        "Ordering Of Dictionary:Insertion order preserved (since Python 3.7+)\n",
        "\n",
        "Key vs. Position Of list:Accessed by position\n",
        "Key vs. Position Of Dictionary:\tAccessed by key\n",
        "\n",
        "List Best for:Sequential/ordered data\n",
        "Dictionary Best for:Key-value paired data\n"
      ],
      "metadata": {
        "id": "lZdCQdGC3P9S"
      }
    },
    {
      "cell_type": "code",
      "execution_count": 2,
      "metadata": {
        "colab": {
          "base_uri": "https://localhost:8080/"
        },
        "id": "fSScJxHEW1T3",
        "outputId": "49dd66f5-5364-4888-ca54-1852aee7665d"
      },
      "outputs": [
        {
          "output_type": "stream",
          "name": "stdout",
          "text": [
            "My name is: Saurabh\n"
          ]
        }
      ],
      "source": [
        "#code to create a string with your name and print it?\n",
        "name=\"Saurabh\"\n",
        "print(\"My name is:\",name)"
      ]
    },
    {
      "cell_type": "code",
      "source": [
        "#code to find the length of the string \"Hello World\"\n",
        "text = \"Hello World\"\n",
        "length = len(text)\n",
        "print(\"Length Of the String is:\",length)"
      ],
      "metadata": {
        "colab": {
          "base_uri": "https://localhost:8080/"
        },
        "id": "xILmV0Dz5-d_",
        "outputId": "8185fa60-695d-4d6b-8b10-654749cc055c"
      },
      "execution_count": 3,
      "outputs": [
        {
          "output_type": "stream",
          "name": "stdout",
          "text": [
            "Length Of the String is: 11\n"
          ]
        }
      ]
    },
    {
      "cell_type": "code",
      "source": [
        "#code to slice the first 3 characters from the string \"Python Programming\"\n",
        "text = \"Python Programming\"\n",
        "sliced = text[:3]\n",
        "print(\"First 3 characters sliced:\",sliced)\n"
      ],
      "metadata": {
        "colab": {
          "base_uri": "https://localhost:8080/"
        },
        "id": "1rBaKiNf6_tM",
        "outputId": "f342c5f9-d898-4ea3-f110-66596ee03640"
      },
      "execution_count": 5,
      "outputs": [
        {
          "output_type": "stream",
          "name": "stdout",
          "text": [
            "First 3 characters sliced: Pyt\n"
          ]
        }
      ]
    },
    {
      "cell_type": "code",
      "source": [
        "#code to convert the string \"hello\" to uppercase\n",
        "string = \"hello\"\n",
        "converted = string.upper()\n",
        "print(\"coverted string to uppercase:\",converted)"
      ],
      "metadata": {
        "colab": {
          "base_uri": "https://localhost:8080/"
        },
        "id": "iyYzRWT470--",
        "outputId": "11c00456-71e4-48db-b4bb-2a83c9a4d5bd"
      },
      "execution_count": 8,
      "outputs": [
        {
          "output_type": "stream",
          "name": "stdout",
          "text": [
            "coverted string to uppercase: HELLO\n"
          ]
        }
      ]
    },
    {
      "cell_type": "code",
      "source": [
        "#Write a code to replace the word \"apple\" with \"orange\" in the the string \"I like apple\"\n",
        "text = \"I like apple\"\n",
        "new_text= text.replace(\"apple\",\"orange\")\n",
        "print(new_text)"
      ],
      "metadata": {
        "colab": {
          "base_uri": "https://localhost:8080/"
        },
        "id": "B_sDbMW98aCY",
        "outputId": "27cf16b3-4f9a-4da5-eb44-8e381670328e"
      },
      "execution_count": 9,
      "outputs": [
        {
          "output_type": "stream",
          "name": "stdout",
          "text": [
            "I like orange\n"
          ]
        }
      ]
    },
    {
      "cell_type": "code",
      "source": [
        "#Write a code to create a list with numbers 1 to 5 and print it#\n",
        "numbers = [1, 2, 3, 4, 5]\n",
        "print(numbers)"
      ],
      "metadata": {
        "colab": {
          "base_uri": "https://localhost:8080/"
        },
        "id": "KN0SvDGe9Q_K",
        "outputId": "9db02c26-2803-4bed-a728-25a6abece80c"
      },
      "execution_count": 10,
      "outputs": [
        {
          "output_type": "stream",
          "name": "stdout",
          "text": [
            "[1, 2, 3, 4, 5]\n"
          ]
        }
      ]
    },
    {
      "cell_type": "code",
      "source": [
        "#Write a code to append the number 10 to the list [1, 2, 3, 4]#\n",
        "numbers = [1, 2, 3, 4]\n",
        "numbers.append(10)\n",
        "print(numbers)"
      ],
      "metadata": {
        "colab": {
          "base_uri": "https://localhost:8080/"
        },
        "id": "1hci9b8E9fuv",
        "outputId": "bd0e445d-6a22-4abe-e1ef-661f5f22bcd2"
      },
      "execution_count": 11,
      "outputs": [
        {
          "output_type": "stream",
          "name": "stdout",
          "text": [
            "[1, 2, 3, 4, 10]\n"
          ]
        }
      ]
    },
    {
      "cell_type": "code",
      "source": [
        "#Write a code to remove the number 3 from the list [1, 2, 3, 4]#\n",
        "numbers = [1,2,3,4]\n",
        "numbers.remove(3)\n",
        "print(numbers)\n"
      ],
      "metadata": {
        "colab": {
          "base_uri": "https://localhost:8080/"
        },
        "id": "Lt_QLBAx9u_p",
        "outputId": "718102ab-839b-4045-be44-3c0e229e6496"
      },
      "execution_count": 12,
      "outputs": [
        {
          "output_type": "stream",
          "name": "stdout",
          "text": [
            "[1, 2, 4]\n"
          ]
        }
      ]
    },
    {
      "cell_type": "code",
      "source": [
        "#Write a code to access the second element in the list ['a', 'b', 'c', 'd']#\n",
        "my_list = ['a','b','c','d']\n",
        "second_element = my_list[1]\n",
        "print(second_element)"
      ],
      "metadata": {
        "colab": {
          "base_uri": "https://localhost:8080/"
        },
        "id": "Cdm7X4fS-Kjg",
        "outputId": "b4e0f752-8b1a-4277-cd1e-9c6d8012b007"
      },
      "execution_count": 13,
      "outputs": [
        {
          "output_type": "stream",
          "name": "stdout",
          "text": [
            "b\n"
          ]
        }
      ]
    },
    {
      "cell_type": "code",
      "source": [
        "#Write a code to reverse the list [10, 20, 30, 40, 50]#\n",
        "my_list = [10,20,30,40,50]\n",
        "my_list.reverse()\n",
        "print(my_list)"
      ],
      "metadata": {
        "colab": {
          "base_uri": "https://localhost:8080/"
        },
        "id": "1l7o6Tt7-mXd",
        "outputId": "d7ca1d21-7145-4b49-c6c1-39ae30b8dd2a"
      },
      "execution_count": 14,
      "outputs": [
        {
          "output_type": "stream",
          "name": "stdout",
          "text": [
            "[50, 40, 30, 20, 10]\n"
          ]
        }
      ]
    },
    {
      "cell_type": "code",
      "source": [
        "#Write a code to create a tuple with the elements 100, 200, 300 and print it.#\n",
        "my_tuple = (100,200,300)\n",
        "print(my_tuple)\n"
      ],
      "metadata": {
        "colab": {
          "base_uri": "https://localhost:8080/"
        },
        "id": "lO-KBAIS-4Eh",
        "outputId": "0f11375e-f85b-43c5-efa4-ad9aea98bd60"
      },
      "execution_count": 15,
      "outputs": [
        {
          "output_type": "stream",
          "name": "stdout",
          "text": [
            "(100, 200, 300)\n"
          ]
        }
      ]
    },
    {
      "cell_type": "code",
      "source": [
        "#Write a code to access the second-to-last element of the tuple ('red', 'green', 'blue', 'yellow')#\n",
        "my_tuple = ('red', 'green', 'blue', 'yellow')\n",
        "second_last_element = my_tuple[-2]\n",
        "print(second_last_element)"
      ],
      "metadata": {
        "colab": {
          "base_uri": "https://localhost:8080/"
        },
        "id": "v6C-xKlX_BMX",
        "outputId": "5025a461-14b3-4e2e-8459-05f695d3dc90"
      },
      "execution_count": 16,
      "outputs": [
        {
          "output_type": "stream",
          "name": "stdout",
          "text": [
            "blue\n"
          ]
        }
      ]
    },
    {
      "cell_type": "code",
      "source": [
        "#Write a code to find the minimum number in the tuple (10, 20, 5, 15).#\n",
        "my_tuple = (10,20,5,15)\n",
        "minimum = min(my_tuple)\n",
        "print(minimum)"
      ],
      "metadata": {
        "colab": {
          "base_uri": "https://localhost:8080/"
        },
        "id": "r7w7z11N_KJJ",
        "outputId": "a853fb9b-caf7-4137-d73c-58440d55e67d"
      },
      "execution_count": 17,
      "outputs": [
        {
          "output_type": "stream",
          "name": "stdout",
          "text": [
            "5\n"
          ]
        }
      ]
    },
    {
      "cell_type": "code",
      "source": [
        "# Write a code to find the index of the element \"cat\" in the tuple ('dog', 'cat', 'rabbit')#\n",
        "my_tuple = ('dog', 'cat', 'rabbit')\n",
        "index = my_tuple.index('cat')\n",
        "print(index)"
      ],
      "metadata": {
        "colab": {
          "base_uri": "https://localhost:8080/"
        },
        "id": "ZMtF8Ohi_VKD",
        "outputId": "3d7fe204-7951-4708-b54b-0fc1e0775769"
      },
      "execution_count": 18,
      "outputs": [
        {
          "output_type": "stream",
          "name": "stdout",
          "text": [
            "1\n"
          ]
        }
      ]
    },
    {
      "cell_type": "code",
      "source": [
        "#Write a code to create a tuple containing three different fruits and check if \"kiwi\" is in it.#\n",
        "my_tuple = ('apple', 'banana', 'orange')\n",
        "if 'kiwi' in my_tuple:\n",
        "    print(\"kiwi is in the tuple\")\n",
        "else:\n",
        "    print(\"kiwi is not in the tuple\")"
      ],
      "metadata": {
        "colab": {
          "base_uri": "https://localhost:8080/"
        },
        "id": "tg58jZMT_hg5",
        "outputId": "67f4e7ca-865c-4413-f4ce-9da92077a7e7"
      },
      "execution_count": 19,
      "outputs": [
        {
          "output_type": "stream",
          "name": "stdout",
          "text": [
            "kiwi is not in the tuple\n"
          ]
        }
      ]
    },
    {
      "cell_type": "code",
      "source": [
        "#Write a code to create a set with the elements 'a', 'b', 'c' and print it.#\n",
        "my_set = {'a','b','c'}\n",
        "print(my_set)"
      ],
      "metadata": {
        "colab": {
          "base_uri": "https://localhost:8080/"
        },
        "id": "hK4g3o5Q_uxR",
        "outputId": "189a4185-ed6b-4577-87ed-1bcbd6211280"
      },
      "execution_count": 20,
      "outputs": [
        {
          "output_type": "stream",
          "name": "stdout",
          "text": [
            "{'c', 'a', 'b'}\n"
          ]
        }
      ]
    },
    {
      "cell_type": "code",
      "source": [
        "#Write a code to clear all elements from the set {1, 2, 3, 4, 5}.#\n",
        "my_set = {1,2,3,4,5}\n",
        "my_set.clear()\n",
        "print(my_set)"
      ],
      "metadata": {
        "colab": {
          "base_uri": "https://localhost:8080/"
        },
        "id": "Whe_wUM4_43s",
        "outputId": "c9f27fdb-c6a9-4cb4-a270-c15e4fb519fe"
      },
      "execution_count": 21,
      "outputs": [
        {
          "output_type": "stream",
          "name": "stdout",
          "text": [
            "set()\n"
          ]
        }
      ]
    },
    {
      "cell_type": "code",
      "source": [
        "#Write a code to remove the element 4 from the set {1, 2, 3, 4}.#\n",
        "my_set = {1,2,3,4}\n",
        "my_set.remove(4)\n",
        "print(my_set)"
      ],
      "metadata": {
        "colab": {
          "base_uri": "https://localhost:8080/"
        },
        "id": "TPyGc8naABoS",
        "outputId": "233b806b-8fe8-41aa-ce0f-6e9fa9f9c69b"
      },
      "execution_count": 22,
      "outputs": [
        {
          "output_type": "stream",
          "name": "stdout",
          "text": [
            "{1, 2, 3}\n"
          ]
        }
      ]
    },
    {
      "cell_type": "code",
      "source": [
        "#Write a code to find the union of two sets {1, 2, 3} and {3, 4, 5}.#\n",
        "set1 = {1,2,3}\n",
        "set2 = {3,4,5}\n",
        "union = set1.union(set2)\n",
        "print(union)"
      ],
      "metadata": {
        "colab": {
          "base_uri": "https://localhost:8080/"
        },
        "id": "YZ1OIkG2AJjO",
        "outputId": "297199a9-c428-4e84-96d3-7d929b61f8de"
      },
      "execution_count": 23,
      "outputs": [
        {
          "output_type": "stream",
          "name": "stdout",
          "text": [
            "{1, 2, 3, 4, 5}\n"
          ]
        }
      ]
    },
    {
      "cell_type": "code",
      "source": [
        "# Write a code to find the intersection of two sets {1, 2, 3} and {2, 3, 4}#\n",
        "set1 = {1,2,3}\n",
        "set2 = {2,3,4}\n",
        "intersection = set1.intersection(set2)\n",
        "print(intersection)"
      ],
      "metadata": {
        "colab": {
          "base_uri": "https://localhost:8080/"
        },
        "id": "GEAfntezASLk",
        "outputId": "c2fa3b27-d933-4891-fd38-246bf9c9f1cb"
      },
      "execution_count": 24,
      "outputs": [
        {
          "output_type": "stream",
          "name": "stdout",
          "text": [
            "{2, 3}\n"
          ]
        }
      ]
    },
    {
      "cell_type": "code",
      "source": [
        "#Write a code to create a dictionary with the keys \"name\", \"age\", and \"city\", and print it#\n",
        "my_dict = {\n",
        "    \"name\": \"Saurabh\",\n",
        "    \"age\": 38,\n",
        "    \"city\": \"Mumbai\"\n",
        "}\n",
        "print(my_dict)"
      ],
      "metadata": {
        "colab": {
          "base_uri": "https://localhost:8080/"
        },
        "id": "lLasduCsAbdM",
        "outputId": "73a9ad23-7f33-4d55-aef6-1155ed5dbcf9"
      },
      "execution_count": 26,
      "outputs": [
        {
          "output_type": "stream",
          "name": "stdout",
          "text": [
            "{'name': 'Saurabh', 'age': 38, 'city': 'Mumbai'}\n"
          ]
        }
      ]
    },
    {
      "cell_type": "code",
      "source": [
        "#Write a code to add a new key-value pair \"country\": \"USA\" to the dictionary {'name': 'John', 'age': 25}.#\n",
        "my_dict = {'name': 'John', 'age': 25}\n",
        "my_dict['country']= 'USA'\n",
        "print(my_dict)"
      ],
      "metadata": {
        "colab": {
          "base_uri": "https://localhost:8080/"
        },
        "id": "htuylG03Alfq",
        "outputId": "0c638711-eba1-4355-d090-58d83c64f83e"
      },
      "execution_count": 28,
      "outputs": [
        {
          "output_type": "stream",
          "name": "stdout",
          "text": [
            "{'name': 'John', 'age': 25, 'country': 'USA'}\n"
          ]
        }
      ]
    },
    {
      "cell_type": "code",
      "source": [
        "#Write a code to access the value associated with the key \"name\" in the dictionary {'name': 'Alice', 'age': 30}#\n",
        "my_dict = {'name': 'Alice', 'age': 30}\n",
        "value = my_dict['name']\n",
        "print(value)"
      ],
      "metadata": {
        "colab": {
          "base_uri": "https://localhost:8080/"
        },
        "id": "QfmUcjBJAznp",
        "outputId": "9e1d6336-3df2-4c3c-e4fa-cfef86ef6ed6"
      },
      "execution_count": 29,
      "outputs": [
        {
          "output_type": "stream",
          "name": "stdout",
          "text": [
            "Alice\n"
          ]
        }
      ]
    },
    {
      "cell_type": "code",
      "source": [
        "#Write a code to remove the key \"age\" from the dictionary {'name': 'Bob', 'age': 22, 'city': 'New York'}.#\n",
        "my_dict = {'name': 'Bob', 'age': 22, 'city': 'New York'}\n",
        "del my_dict['age']\n",
        "print(my_dict)"
      ],
      "metadata": {
        "colab": {
          "base_uri": "https://localhost:8080/"
        },
        "id": "GSuKm7i-BDns",
        "outputId": "3c1f25a8-0e7f-4412-9ce7-4ce9af640f1c"
      },
      "execution_count": 30,
      "outputs": [
        {
          "output_type": "stream",
          "name": "stdout",
          "text": [
            "{'name': 'Bob', 'city': 'New York'}\n"
          ]
        }
      ]
    },
    {
      "cell_type": "code",
      "source": [
        "#Write a code to check if the key \"city\" exists in the dictionary {'name': 'Alice', 'city': 'Paris'}#\n",
        "my_dict = {'name': 'Alice', 'city': 'Paris'}\n",
        "if 'city' in my_dict:\n",
        "    print(\"city is in the dictionary\")\n",
        "else:\n",
        "    print(\"city is not in the dictionary\")"
      ],
      "metadata": {
        "colab": {
          "base_uri": "https://localhost:8080/"
        },
        "id": "NOlv6M9LBVTB",
        "outputId": "e40f3f14-7fe2-4124-b6ab-84bdb1817138"
      },
      "execution_count": 31,
      "outputs": [
        {
          "output_type": "stream",
          "name": "stdout",
          "text": [
            "city is in the dictionary\n"
          ]
        }
      ]
    },
    {
      "cell_type": "code",
      "source": [
        "#Write a code to create a list, a tuple, and a dictionary, and print them all.#\n",
        "my_list = [1, 2, 3, 4, 5]\n",
        "my_tuple = (10, 20, 30)\n",
        "my_dict = {'a': 1, 'b': 2, 'c': 3}\n",
        "print(\"List:\", my_list)\n",
        "print(\"Tuple:\", my_tuple)\n",
        "print(\"Dictionary:\", my_dict)"
      ],
      "metadata": {
        "colab": {
          "base_uri": "https://localhost:8080/"
        },
        "id": "OA1aXpQgBflX",
        "outputId": "216ab6c0-5f1c-45f4-8487-e2b0dead5b17"
      },
      "execution_count": 32,
      "outputs": [
        {
          "output_type": "stream",
          "name": "stdout",
          "text": [
            "List: [1, 2, 3, 4, 5]\n",
            "Tuple: (10, 20, 30)\n",
            "Dictionary: {'a': 1, 'b': 2, 'c': 3}\n"
          ]
        }
      ]
    },
    {
      "cell_type": "code",
      "source": [
        "#Write a code to create a list of 5 random numbers between 1 and 100, sort it in ascending order, and print the result.(replaced)#\n",
        "my_list = [12,34,56,4,93]\n",
        "my_list.sort()\n",
        "print(my_list)"
      ],
      "metadata": {
        "colab": {
          "base_uri": "https://localhost:8080/"
        },
        "id": "orZupqgXBoqQ",
        "outputId": "33d20d8b-a3a3-41a2-9cd4-1a3799d4c726"
      },
      "execution_count": 33,
      "outputs": [
        {
          "output_type": "stream",
          "name": "stdout",
          "text": [
            "[4, 12, 34, 56, 93]\n"
          ]
        }
      ]
    },
    {
      "cell_type": "code",
      "source": [
        "#Write a code to create a list with strings and print the element at the third index.#\n",
        "my_list = [\"apple\", \"banana\", \"cherry\", \"date\", \"elderberry\"]\n",
        "print(my_list[3])"
      ],
      "metadata": {
        "colab": {
          "base_uri": "https://localhost:8080/"
        },
        "id": "XaBMgo32CNm_",
        "outputId": "a69895ec-5e7f-4273-e117-dda7fd01961f"
      },
      "execution_count": 34,
      "outputs": [
        {
          "output_type": "stream",
          "name": "stdout",
          "text": [
            "date\n"
          ]
        }
      ]
    },
    {
      "cell_type": "code",
      "source": [
        "# Write a code to combine two dictionaries into one and print the result.#\n",
        "dict1 = {'a': 1, 'b': 2}\n",
        "dict2 = {'c': 3, 'd': 4}\n",
        "combined_dict = {**dict1,**dict2}\n",
        "print(combined_dict)\n"
      ],
      "metadata": {
        "colab": {
          "base_uri": "https://localhost:8080/"
        },
        "id": "z9r06yfKCrnM",
        "outputId": "29922cd9-2066-4797-e38f-39d3740ff4af"
      },
      "execution_count": 36,
      "outputs": [
        {
          "output_type": "stream",
          "name": "stdout",
          "text": [
            "{'a': 1, 'b': 2, 'c': 3, 'd': 4}\n"
          ]
        }
      ]
    },
    {
      "cell_type": "code",
      "source": [
        "#Write a code to convert a list of strings into a set.#\n",
        "my_list = ['apple', 'banana', 'cherry', 'apple', 'banana']\n",
        "my_set = set(my_list)\n",
        "print(my_set)"
      ],
      "metadata": {
        "colab": {
          "base_uri": "https://localhost:8080/"
        },
        "id": "bt20dzMrC_cu",
        "outputId": "52b9ca98-82a0-4ebf-c785-f581d247c3f1"
      },
      "execution_count": 37,
      "outputs": [
        {
          "output_type": "stream",
          "name": "stdout",
          "text": [
            "{'apple', 'cherry', 'banana'}\n"
          ]
        }
      ]
    },
    {
      "cell_type": "code",
      "source": [],
      "metadata": {
        "id": "aHcdaiAHDPLS"
      },
      "execution_count": null,
      "outputs": []
    }
  ]
}